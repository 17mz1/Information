{
 "cells": [
  {
   "cell_type": "markdown",
   "metadata": {},
   "source": [
    "### Only works for WR (written) question\n",
    "\n",
    "<a href=\"https://colab.research.google.com/github/CISC-CMPE-327/Information/blob/master/TAs/onq_grade.ipynb\" target=\"_parent\\\">\n",
    "    <img src=\"https://colab.research.google.com/assets/colab-badge.svg\" alt=\"Open In Colab\"/>\n",
    "</a>\n"
   ]
  },
  {
   "cell_type": "code",
   "execution_count": 63,
   "metadata": {},
   "outputs": [],
   "source": [
    "import pandas as pd\n",
    "from scipy.stats import describe\n"
   ]
  },
  {
   "cell_type": "code",
   "execution_count": 64,
   "metadata": {},
   "outputs": [],
   "source": [
    "df = pd.read_excel('m1.xlsx') # index from 0"
   ]
  },
  {
   "cell_type": "code",
   "execution_count": 65,
   "metadata": {},
   "outputs": [
    {
     "data": {
      "text/plain": [
       "Index(['Org Defined ID', 'Username', 'FirstName', 'LastName', 'Attempt #',\n",
       "       'Attempt Start', 'Attempt End', 'Section #', 'Q #', 'Q Type', 'Q Title',\n",
       "       'Q Text', 'Bonus?', 'Difficulty', 'Answer', 'Answer Match', 'Score',\n",
       "       'Out Of', 'Unnamed: 18', 'Unnamed: 19'],\n",
       "      dtype='object')"
      ]
     },
     "execution_count": 65,
     "metadata": {},
     "output_type": "execute_result"
    }
   ],
   "source": [
    "df.columns"
   ]
  },
  {
   "cell_type": "code",
   "execution_count": 74,
   "metadata": {},
   "outputs": [
    {
     "data": {
      "text/plain": [
       "count    129.0\n",
       "mean      10.0\n",
       "std        0.0\n",
       "min       10.0\n",
       "25%       10.0\n",
       "50%       10.0\n",
       "75%       10.0\n",
       "max       10.0\n",
       "dtype: float64"
      ]
     },
     "execution_count": 74,
     "metadata": {},
     "output_type": "execute_result"
    }
   ],
   "source": [
    "# grade question one-by-one for users in order\n",
    "\n",
    "q1_scores = []\n",
    "q1 = df.loc[df['Q #'] == 7]\n",
    "q1_questions = q1['Q Text']\n",
    "q1_answers = q1['Answer']\n",
    "\n",
    "for question, answer in zip(q1_questions, q1_answers):\n",
    "    # question: str - the question in text format\n",
    "    # answer:   str - the answer in text format\n",
    "    \n",
    "    q1_scores.append(10) # set the score\n",
    "\n",
    "# check distribution\n",
    "pd.Series(q1_scores).describe()\n",
    "\n",
    "# make sure the number of scores is the same as number of students in class\n",
    "# this cell only works for WR questions, since other questions will have more than one row that has answers\n",
    "# (T/F question has T answer checked/unchecked as one row, and F checked/unchecked as one row )"
   ]
  },
  {
   "cell_type": "code",
   "execution_count": 67,
   "metadata": {},
   "outputs": [
    {
     "data": {
      "text/plain": [
       "<matplotlib.axes._subplots.AxesSubplot at 0x7fc11cf26110>"
      ]
     },
     "execution_count": 67,
     "metadata": {},
     "output_type": "execute_result"
    },
    {
     "data": {
      "image/png": "[encoded data removed]",
      "text/plain": [
       "<Figure size 432x288 with 1 Axes>"
      ]
     },
     "metadata": {
      "needs_background": "light"
     },
     "output_type": "display_data"
    }
   ],
   "source": [
    "pd.Series(q1_scores).hist()"
   ]
  },
  {
   "cell_type": "code",
   "execution_count": 68,
   "metadata": {},
   "outputs": [],
   "source": [
    "# then grade next question. here I just copy over q1_scores for q2 etc.\n",
    "\n",
    "q2_score = q1_scores\n",
    "q3_score = q1_scores\n",
    "q4_score = q1_scores\n",
    "q5_score = q1_scores"
   ]
  },
  {
   "cell_type": "code",
   "execution_count": 69,
   "metadata": {},
   "outputs": [],
   "source": [
    "# combine as a student-question-score matrix. (each row is a student, each column is a question)\n",
    "\n",
    "import numpy as np\n",
    "m = np.column_stack((q1_scores, q2_score, q3_score, q4_score, q5_score))"
   ]
  },
  {
   "cell_type": "code",
   "execution_count": 70,
   "metadata": {},
   "outputs": [
    {
     "name": "stdout",
     "output_type": "stream",
     "text": [
      "[50 50 50 50 50 50 50 50 50 50 50 50 50 50 50 50 50 50 50 50 50 50 50 50\n",
      " 50 50 50 50 50 50 50 50 50 50 50 50 50 50 50 50 50 50 50 50 50 50 50 50\n",
      " 50 50 50 50 50 50 50 50 50 50 50 50 50 50 50 50 50 50 50 50 50 50 50 50\n",
      " 50 50 50 50 50 50 50 50 50 50 50 50 50 50 50 50 50 50 50 50 50 50 50 50\n",
      " 50 50 50 50 50 50 50 50 50 50 50 50 50 50 50 50 50 50 50 50 50 50 50 50\n",
      " 50 50 50 50 50 50 50 50 50]\n"
     ]
    }
   ],
   "source": [
    "# total score\n",
    "total = m.sum(axis=-1)\n",
    "print(total)"
   ]
  },
  {
   "cell_type": "code",
   "execution_count": 71,
   "metadata": {},
   "outputs": [
    {
     "data": {
      "text/plain": [
       "<matplotlib.axes._subplots.AxesSubplot at 0x7fc11a5d9890>"
      ]
     },
     "execution_count": 71,
     "metadata": {},
     "output_type": "execute_result"
    },
    {
     "data": {
      "image/png": "[encoded data removed]",
      "text/plain": [
       "<Figure size 432x288 with 1 Axes>"
      ]
     },
     "metadata": {
      "needs_background": "light"
     },
     "output_type": "display_data"
    }
   ],
   "source": [
    "# summary of total\n",
    "pd.Series(total).describe()\n",
    "pd.Series(total).hist()"
   ]
  },
  {
   "cell_type": "code",
   "execution_count": null,
   "metadata": {},
   "outputs": [],
   "source": [
    "df_upload = pd.DataFrame(\n",
    "    {\n",
    "        'OrgDefinedId':q1['Org Defined ID'], # get IDs from question 1\n",
    "        'Mini-Exam #1 Points Grade': total,  # `Mini-Exam #1` should be replaced with your quizz name\n",
    "        'End-of-Line Indicator': ['#']*len(total)\n",
    "    })\n",
    "df_upload"
   ]
  },
  {
   "cell_type": "code",
   "execution_count": 73,
   "metadata": {},
   "outputs": [],
   "source": [
    "# save the score as csv for upload\n",
    "df_upload.to_csv('m1.csv', index=False)"
   ]
  }
 ],
 "metadata": {
  "kernelspec": {
   "display_name": "Python 3",
   "language": "python",
   "name": "python3"
  },
  "language_info": {
   "codemirror_mode": {
    "name": "ipython",
    "version": 3
   },
   "file_extension": ".py",
   "mimetype": "text/x-python",
   "name": "python",
   "nbconvert_exporter": "python",
   "pygments_lexer": "ipython3",
   "version": "3.7.8"
  }
 },
 "nbformat": 4,
 "nbformat_minor": 4
}
